{
 "cells": [
  {
   "cell_type": "code",
   "execution_count": 1,
   "id": "79a09126",
   "metadata": {},
   "outputs": [],
   "source": [
    "import netCDF4 as nc"
   ]
  },
  {
   "cell_type": "code",
   "execution_count": 2,
   "id": "6007cdd6",
   "metadata": {},
   "outputs": [],
   "source": [
    "file_list=\"../data/rectilinear*nc\""
   ]
  },
  {
   "cell_type": "code",
   "execution_count": 3,
   "id": "29875e9f",
   "metadata": {},
   "outputs": [],
   "source": [
    "f=nc.MFDataset(file_list)"
   ]
  },
  {
   "cell_type": "code",
   "execution_count": null,
   "id": "2284d9b0",
   "metadata": {},
   "outputs": [],
   "source": [
    "var=f.variables['tsurf']\n",
    "print(var.dimensions)"
   ]
  }
 ],
 "metadata": {
  "kernelspec": {
   "display_name": "Python 3.9.12 ('judah_c')",
   "language": "python",
   "name": "python3"
  },
  "language_info": {
   "codemirror_mode": {
    "name": "ipython",
    "version": 3
   },
   "file_extension": ".py",
   "mimetype": "text/x-python",
   "name": "python",
   "nbconvert_exporter": "python",
   "pygments_lexer": "ipython3",
   "version": "3.9.13"
  },
  "vscode": {
   "interpreter": {
    "hash": "8ade28091a343881dbfce9ffe70b8fdcee495b47e644830b6051dd9071cb25ea"
   }
  }
 },
 "nbformat": 4,
 "nbformat_minor": 5
}
