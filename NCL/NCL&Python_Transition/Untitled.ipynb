{
 "cells": [
  {
   "cell_type": "code",
   "execution_count": 6,
   "id": "fc1a4a36",
   "metadata": {},
   "outputs": [
    {
     "ename": "ModuleNotFoundError",
     "evalue": "No module named 'pyngl'",
     "output_type": "error",
     "traceback": [
      "\u001b[1;31m---------------------------------------------------------------------------\u001b[0m",
      "\u001b[1;31mModuleNotFoundError\u001b[0m                       Traceback (most recent call last)",
      "Input \u001b[1;32mIn [6]\u001b[0m, in \u001b[0;36m<cell line: 2>\u001b[1;34m()\u001b[0m\n\u001b[0;32m      1\u001b[0m \u001b[38;5;28;01mimport\u001b[39;00m \u001b[38;5;21;01mnumpy\u001b[39;00m \u001b[38;5;28;01mas\u001b[39;00m \u001b[38;5;21;01mnp\u001b[39;00m\n\u001b[1;32m----> 2\u001b[0m \u001b[38;5;28;01mimport\u001b[39;00m \u001b[38;5;21;01mpyngl\u001b[39;00m\n",
      "\u001b[1;31mModuleNotFoundError\u001b[0m: No module named 'pyngl'"
     ]
    }
   ],
   "source": [
    "import numpy as np\n",
    "import pyngl"
   ]
  },
  {
   "cell_type": "code",
   "execution_count": 2,
   "id": "21bde45e",
   "metadata": {},
   "outputs": [],
   "source": [
    "f=open('../data/asc6.txt')\n",
    "data_string=f.readlines()"
   ]
  },
  {
   "cell_type": "code",
   "execution_count": 3,
   "id": "4921d6a6",
   "metadata": {},
   "outputs": [],
   "source": [
    "data=[]\n",
    "for i in data_string:\n",
    "    while '  ' in i:\n",
    "        i=i.replace('  ',' ')\n",
    "    data.append(i)\n",
    "data[0]=data[0][::-1].replace(' ','',1)[::-1]\n",
    "data=[i.strip().split(' ') for i in data[:]]"
   ]
  },
  {
   "cell_type": "code",
   "execution_count": null,
   "id": "97a8abfd",
   "metadata": {},
   "outputs": [],
   "source": []
  }
 ],
 "metadata": {
  "kernelspec": {
   "display_name": "Python 3 (ipykernel)",
   "language": "python",
   "name": "python3"
  },
  "language_info": {
   "codemirror_mode": {
    "name": "ipython",
    "version": 3
   },
   "file_extension": ".py",
   "mimetype": "text/x-python",
   "name": "python",
   "nbconvert_exporter": "python",
   "pygments_lexer": "ipython3",
   "version": "3.9.13"
  }
 },
 "nbformat": 4,
 "nbformat_minor": 5
}
