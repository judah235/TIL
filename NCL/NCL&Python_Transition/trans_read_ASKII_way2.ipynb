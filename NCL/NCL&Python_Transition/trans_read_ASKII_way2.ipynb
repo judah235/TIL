{
 "cells": [
  {
   "cell_type": "code",
   "execution_count": 1,
   "id": "88466116",
   "metadata": {},
   "outputs": [],
   "source": [
    "import numpy as np"
   ]
  },
  {
   "cell_type": "code",
   "execution_count": 11,
   "id": "7226f260",
   "metadata": {},
   "outputs": [
    {
     "data": {
      "text/plain": [
       "['2.00;3.50;5.10;8.20\\n',\n",
       " '2.40;3.10;4.80;8.90\\n',\n",
       " '2.60;3.70;5.30;10.10\\n',\n",
       " '2.75;3.90;5.55;10.25\\n',\n",
       " '3.00;4.10;6.05;10.50\\n']"
      ]
     },
     "execution_count": 11,
     "metadata": {},
     "output_type": "execute_result"
    }
   ],
   "source": [
    "f=open(\"../data/Test_6h.csv\",'r')\n",
    "data=f.readlines()"
   ]
  },
  {
   "cell_type": "code",
   "execution_count": 10,
   "id": "e76bd249",
   "metadata": {},
   "outputs": [],
   "source": [
    "delim=\";\""
   ]
  },
  {
   "cell_type": "code",
   "execution_count": 12,
   "id": "7897c415",
   "metadata": {},
   "outputs": [],
   "source": [
    "# vals=[]\n",
    "# for i in data:\n",
    "#     line=i.strip()\n",
    "#     cols=line.split(delim)\n",
    "#     vals.append(cols[:])\n",
    "vals=[i.strip().split(';') for i in data ]"
   ]
  },
  {
   "cell_type": "code",
   "execution_count": 33,
   "id": "75772900",
   "metadata": {},
   "outputs": [
    {
     "name": "stdout",
     "output_type": "stream",
     "text": [
      "vals:\n",
      "[[ 2.    3.5   5.1   8.2 ]\n",
      " [ 2.4   3.1   4.8   8.9 ]\n",
      " [ 2.6   3.7   5.3  10.1 ]\n",
      " [ 2.75  3.9   5.55 10.25]\n",
      " [ 3.    4.1   6.05 10.5 ]]\n"
     ]
    }
   ],
   "source": [
    "vals =np.array(vals).astype(float)\n",
    "\n",
    "nlines=vals[:,0]\n",
    "ncols=vals[0,:]\n",
    "\n",
    "print(f\"vals:\\n{vals}\")"
   ]
  },
  {
   "cell_type": "code",
   "execution_count": 35,
   "id": "c8cede92",
   "metadata": {},
   "outputs": [
    {
     "name": "stdout",
     "output_type": "stream",
     "text": [
      "colunms count: 4\n",
      "lines count: 5\n",
      "rank of vals: 2\n",
      "shape vals: (5, 4)\n"
     ]
    }
   ],
   "source": [
    "print(f\"colunms count: {len(ncols)}\")\n",
    "print(f\"lines count: {len(nlines)}\")\n",
    "print(f\"rank of vals: {len(vals.shape)}\")\n",
    "print(f\"shape vals: {vals.shape}\")"
   ]
  }
 ],
 "metadata": {
  "kernelspec": {
   "display_name": "Python 3 (ipykernel)",
   "language": "python",
   "name": "python3"
  },
  "language_info": {
   "codemirror_mode": {
    "name": "ipython",
    "version": 3
   },
   "file_extension": ".py",
   "mimetype": "text/x-python",
   "name": "python",
   "nbconvert_exporter": "python",
   "pygments_lexer": "ipython3",
   "version": "3.9.13"
  }
 },
 "nbformat": 4,
 "nbformat_minor": 5
}
