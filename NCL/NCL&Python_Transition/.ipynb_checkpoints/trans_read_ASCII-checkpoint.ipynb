{
 "cells": [
  {
   "cell_type": "code",
   "execution_count": 7,
   "id": "957b7cb2",
   "metadata": {},
   "outputs": [],
   "source": [
    "import pandas as pd"
   ]
  },
  {
   "cell_type": "code",
   "execution_count": 8,
   "id": "69f7f240",
   "metadata": {},
   "outputs": [],
   "source": [
    "vals=pd.read_csv('../data/Test_6h.csv',header=None,sep=';')"
   ]
  },
  {
   "cell_type": "code",
   "execution_count": 12,
   "id": "db85afc1",
   "metadata": {},
   "outputs": [
    {
     "name": "stdout",
     "output_type": "stream",
     "text": [
      "vals:       0    1     2      3\n",
      "0  2.00  3.5  5.10   8.20\n",
      "1  2.40  3.1  4.80   8.90\n",
      "2  2.60  3.7  5.30  10.10\n",
      "3  2.75  3.9  5.55  10.25\n",
      "4  3.00  4.1  6.05  10.50 \n",
      "\n",
      "rank of vals: 2\n",
      "shape vals: (5, 4)\n"
     ]
    }
   ],
   "source": [
    "print(f\"vals: {vals}\",'\\n')\n",
    "print(f\"rank of vals: {len(vals.shape)}\")\n",
    "print(f\"shape vals: {vals.shape}\")"
   ]
  }
 ],
 "metadata": {
  "kernelspec": {
   "display_name": "Python 3 (ipykernel)",
   "language": "python",
   "name": "python3"
  },
  "language_info": {
   "codemirror_mode": {
    "name": "ipython",
    "version": 3
   },
   "file_extension": ".py",
   "mimetype": "text/x-python",
   "name": "python",
   "nbconvert_exporter": "python",
   "pygments_lexer": "ipython3",
   "version": "3.9.13"
  }
 },
 "nbformat": 4,
 "nbformat_minor": 5
}
