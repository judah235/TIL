{
 "cells": [
  {
   "cell_type": "code",
   "execution_count": 97,
   "id": "916a4671",
   "metadata": {},
   "outputs": [],
   "source": [
    "import pandas as pd\n",
    "import numpy as np"
   ]
  },
  {
   "cell_type": "code",
   "execution_count": 98,
   "id": "6372b380",
   "metadata": {},
   "outputs": [],
   "source": [
    "f=open('../data/asc6.txt')\n",
    "data_string=f.readlines()"
   ]
  },
  {
   "cell_type": "code",
   "execution_count": 99,
   "id": "b03f65be",
   "metadata": {},
   "outputs": [],
   "source": [
    "data=[]\n",
    "for i in data_string:\n",
    "    while '  ' in i:\n",
    "        i=i.replace('  ',' ')\n",
    "    data.append(i)\n",
    "data[0]=data[0][::-1].replace(' ','',1)[::-1]\n",
    "data=[i.strip().split(' ') for i in data[:]]"
   ]
  },
  {
   "cell_type": "code",
   "execution_count": 100,
   "id": "1971b9a6",
   "metadata": {},
   "outputs": [],
   "source": [
    "data=pd.DataFrame(data[1:],columns=data[0])"
   ]
  },
  {
   "cell_type": "code",
   "execution_count": 65,
   "id": "1ba42a4a",
   "metadata": {},
   "outputs": [],
   "source": [
    "nrows=21360\n",
    "ncols=3\n",
    "num_lon=240\n",
    "num_lat=89"
   ]
  },
  {
   "cell_type": "markdown",
   "id": "d1aaa363",
   "metadata": {},
   "source": [
    "select lat,lon,temp data"
   ]
  },
  {
   "cell_type": "code",
   "execution_count": 116,
   "id": "eb613496",
   "metadata": {},
   "outputs": [],
   "source": [
    "lat=data['Lat'].unique()\n",
    "lon=data['Lon'].unique()\n",
    "temp1D=data['Temp(C)'].to_numpy()"
   ]
  },
  {
   "cell_type": "markdown",
   "id": "6a10d2ad",
   "metadata": {},
   "source": [
    "size of lat, lon and temp1d"
   ]
  },
  {
   "cell_type": "code",
   "execution_count": 117,
   "id": "849327b7",
   "metadata": {},
   "outputs": [],
   "source": [
    "nlats=len(lat)\n",
    "nlons=len(lon)\n",
    "ntemp=len(temp1D)"
   ]
  },
  {
   "cell_type": "markdown",
   "id": "a1caab18",
   "metadata": {},
   "source": [
    "reshape temp1d to 2D-array temp2d with size (89,240)"
   ]
  },
  {
   "cell_type": "code",
   "execution_count": 118,
   "id": "da754155",
   "metadata": {},
   "outputs": [],
   "source": [
    "temp2D = np.reshape(temp1D,(nlats,nlons))"
   ]
  },
  {
   "cell_type": "code",
   "execution_count": 121,
   "id": "5f1c27a9",
   "metadata": {},
   "outputs": [
    {
     "name": "stdout",
     "output_type": "stream",
     "text": [
      "rank temp1D: 1\n",
      "shape temp1D: 21360\n",
      "rank temp2D: 2\n",
      "shape temp2D: (89, 240)\n"
     ]
    }
   ],
   "source": [
    "print(f\"rank temp1D: {len(temp1D.shape)}\")\n",
    "print(f\"shape temp1D: {ntemp}\")\n",
    "print(f\"rank temp2D: {len(temp2D.shape)}\")\n",
    "print(f\"shape temp2D: {temp2D.shape}\")"
   ]
  }
 ],
 "metadata": {
  "kernelspec": {
   "display_name": "Python 3 (ipykernel)",
   "language": "python",
   "name": "python3"
  },
  "language_info": {
   "codemirror_mode": {
    "name": "ipython",
    "version": 3
   },
   "file_extension": ".py",
   "mimetype": "text/x-python",
   "name": "python",
   "nbconvert_exporter": "python",
   "pygments_lexer": "ipython3",
   "version": "3.9.13"
  }
 },
 "nbformat": 4,
 "nbformat_minor": 5
}
