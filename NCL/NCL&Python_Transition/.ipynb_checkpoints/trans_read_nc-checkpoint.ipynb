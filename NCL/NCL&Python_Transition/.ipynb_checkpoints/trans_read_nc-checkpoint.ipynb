{
 "cells": [
  {
   "cell_type": "code",
   "execution_count": 1,
   "id": "a0cb99fb",
   "metadata": {},
   "outputs": [],
   "source": [
    "from netCDF4 import Dataset"
   ]
  },
  {
   "cell_type": "code",
   "execution_count": 2,
   "id": "33880458",
   "metadata": {},
   "outputs": [],
   "source": [
    "fname=\"../data/rectilinear_grid_3D.nc\""
   ]
  },
  {
   "cell_type": "code",
   "execution_count": 3,
   "id": "bcef50c4",
   "metadata": {},
   "outputs": [],
   "source": [
    "f=Dataset(fname)"
   ]
  },
  {
   "cell_type": "code",
   "execution_count": 4,
   "id": "482e2edb",
   "metadata": {},
   "outputs": [
    {
     "data": {
      "text/plain": [
       "dict_values([<class 'netCDF4._netCDF4.Dimension'>: name = 'lon', size = 192, <class 'netCDF4._netCDF4.Dimension'>: name = 'lat', size = 96, <class 'netCDF4._netCDF4.Dimension'>: name = 'lev', size = 17, <class 'netCDF4._netCDF4.Dimension'> (unlimited): name = 'time', size = 1])"
      ]
     },
     "execution_count": 4,
     "metadata": {},
     "output_type": "execute_result"
    }
   ],
   "source": [
    "dims=f.dimensions.values()\n",
    "dims"
   ]
  },
  {
   "cell_type": "code",
   "execution_count": 5,
   "id": "cd1ffcbc",
   "metadata": {},
   "outputs": [
    {
     "data": {
      "text/plain": [
       "dict_keys(['lon', 'lat', 'lev', 'time'])"
      ]
     },
     "execution_count": 5,
     "metadata": {},
     "output_type": "execute_result"
    }
   ],
   "source": [
    "dimnames=f.dimensions.keys()\n",
    "dimnames"
   ]
  },
  {
   "cell_type": "code",
   "execution_count": 6,
   "id": "ec12d004",
   "metadata": {},
   "outputs": [
    {
     "data": {
      "text/plain": [
       "dict_keys(['lon', 'lat', 'lev', 'time', 'rhumidity', 'var3', 't'])"
      ]
     },
     "execution_count": 6,
     "metadata": {},
     "output_type": "execute_result"
    }
   ],
   "source": [
    "varnames = f.variables.keys()\n",
    "varnames"
   ]
  },
  {
   "cell_type": "code",
   "execution_count": 7,
   "id": "808e8f52",
   "metadata": {},
   "outputs": [
    {
     "data": {
      "text/plain": [
       "['rhumidity', 'var3', 't']"
      ]
     },
     "execution_count": 7,
     "metadata": {},
     "output_type": "execute_result"
    }
   ],
   "source": [
    "ver_list=[i for i in varnames if i not in dimnames]\n",
    "ver_list"
   ]
  },
  {
   "cell_type": "code",
   "execution_count": 8,
   "id": "26881d82",
   "metadata": {},
   "outputs": [
    {
     "data": {
      "text/plain": [
       "<class 'netCDF4._netCDF4.Variable'>\n",
       "float32 t(time, lev, lat, lon)\n",
       "    long_name: temperature\n",
       "    units: K\n",
       "    code: 130\n",
       "    table: 128\n",
       "    grid_type: gaussian\n",
       "unlimited dimensions: time\n",
       "current shape = (1, 17, 96, 192)\n",
       "filling on, default _FillValue of 9.969209968386869e+36 used"
      ]
     },
     "execution_count": 8,
     "metadata": {},
     "output_type": "execute_result"
    }
   ],
   "source": [
    "var=f.variables[\"t\"]\n",
    "var"
   ]
  },
  {
   "cell_type": "code",
   "execution_count": 9,
   "id": "625cc421",
   "metadata": {},
   "outputs": [
    {
     "name": "stdout",
     "output_type": "stream",
     "text": [
      "Type: float32\n",
      "Shape: (1, 17, 96, 192)\n",
      "dims: ('time', 'lev', 'lat', 'lon')\n"
     ]
    }
   ],
   "source": [
    "type=var.dtype\n",
    "shape=var.shape\n",
    "dims=var.dimensions\n",
    "print(f\"Type: {type}\")\n",
    "print(f\"Shape: {shape}\")\n",
    "print(f\"dims: {dims}\")"
   ]
  },
  {
   "cell_type": "code",
   "execution_count": 10,
   "id": "f3e323a6",
   "metadata": {},
   "outputs": [
    {
     "name": "stdout",
     "output_type": "stream",
     "text": [
      "<class 'netCDF4._netCDF4.Variable'>\n",
      "float64 lat(lat)\n",
      "    long_name: latitude\n",
      "    units: degrees_north\n",
      "    standard_name: latitude\n",
      "    axis: Y\n",
      "unlimited dimensions: \n",
      "current shape = (96,)\n",
      "filling on, default _FillValue of 9.969209968386869e+36 used\n",
      "<class 'netCDF4._netCDF4.Variable'>\n",
      "float64 lon(lon)\n",
      "    long_name: longitude\n",
      "    units: degrees_east\n",
      "    standard_name: longitude\n",
      "    axis: X\n",
      "unlimited dimensions: \n",
      "current shape = (192,)\n",
      "filling on, default _FillValue of 9.969209968386869e+36 used\n"
     ]
    }
   ],
   "source": [
    "lat = f.variables[\"lat\"]\n",
    "lon=f.variables[\"lon\"]\n",
    "print(lat)\n",
    "print(lon)"
   ]
  },
  {
   "cell_type": "code",
   "execution_count": 11,
   "id": "589391e0",
   "metadata": {},
   "outputs": [
    {
     "name": "stdout",
     "output_type": "stream",
     "text": [
      "Has units attribute: degrees_east\n"
     ]
    }
   ],
   "source": [
    "if hasattr(lon,'units'):\n",
    "    print(f\"Has units attribute: {lon.units}\")"
   ]
  }
 ],
 "metadata": {
  "kernelspec": {
   "display_name": "Python 3 (ipykernel)",
   "language": "python",
   "name": "python3"
  },
  "language_info": {
   "codemirror_mode": {
    "name": "ipython",
    "version": 3
   },
   "file_extension": ".py",
   "mimetype": "text/x-python",
   "name": "python",
   "nbconvert_exporter": "python",
   "pygments_lexer": "ipython3",
   "version": "3.9.13"
  }
 },
 "nbformat": 4,
 "nbformat_minor": 5
}
