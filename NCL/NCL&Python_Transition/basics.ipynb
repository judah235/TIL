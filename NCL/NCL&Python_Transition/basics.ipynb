{
  "cells": [
    {
      "cell_type": "code",
      "execution_count": 1,
      "metadata": {
        "colab": {
          "base_uri": "https://localhost:8080/"
        },
        "id": "GQ18Kd5F3uKe",
        "outputId": "fe014310-c92f-46e7-dad5-e943b71dd803"
      },
      "outputs": [
        {
          "name": "stdout",
          "output_type": "stream",
          "text": [
            "12\n",
            "<class 'int'>\n"
          ]
        }
      ],
      "source": [
        "var = 12\n",
        "print(var)\n",
        "print(type(var))"
      ]
    },
    {
      "cell_type": "code",
      "execution_count": 2,
      "metadata": {
        "colab": {
          "base_uri": "https://localhost:8080/"
        },
        "id": "__3eqm3q3sr-",
        "outputId": "cf46da6c-019f-4a37-e520-4e8c0d8fedd5"
      },
      "outputs": [
        {
          "name": "stdout",
          "output_type": "stream",
          "text": [
            "2.0\n",
            "<class 'float'>\n"
          ]
        }
      ],
      "source": [
        "vf = 2.0\n",
        "\n",
        "print(vf)\n",
        "print(type(vf))"
      ]
    },
    {
      "cell_type": "code",
      "execution_count": 3,
      "metadata": {
        "colab": {
          "base_uri": "https://localhost:8080/"
        },
        "id": "d_j7nNbKRmhx",
        "outputId": "f9d318ce-30c4-43b9-d536-47a54eac4c4d"
      },
      "outputs": [
        {
          "name": "stdout",
          "output_type": "stream",
          "text": [
            "12.0\n",
            "<class 'float'>\n"
          ]
        }
      ],
      "source": [
        "var = float(var)\n",
        "\n",
        "print(var)\n",
        "print(type(var))"
      ]
    },
    {
      "cell_type": "code",
      "execution_count": 4,
      "metadata": {
        "colab": {
          "base_uri": "https://localhost:8080/"
        },
        "id": "w9llCG2wSRDx",
        "outputId": "ab7a6934-1744-4f81-9a6c-dd23991711cf"
      },
      "outputs": [
        {
          "name": "stdout",
          "output_type": "stream",
          "text": [
            "12.0\n",
            "<class 'str'>\n"
          ]
        }
      ],
      "source": [
        "var = str(var)\n",
        "\n",
        "print(var)\n",
        "print(type(var))"
      ]
    },
    {
      "cell_type": "code",
      "execution_count": 5,
      "metadata": {
        "colab": {
          "base_uri": "https://localhost:8080/"
        },
        "id": "Zq68DSY2rP2W",
        "outputId": "57af42a5-5f1d-4d29-e80a-120b54493d99"
      },
      "outputs": [
        {
          "name": "stdout",
          "output_type": "stream",
          "text": [
            "[0, 3, 6, 9]\n"
          ]
        }
      ],
      "source": [
        "array = [0,3,6,9]\n",
        "\n",
        "print(array)"
      ]
    },
    {
      "cell_type": "code",
      "execution_count": 6,
      "metadata": {
        "colab": {
          "base_uri": "https://localhost:8080/"
        },
        "id": "Y13KcSrJrxss",
        "outputId": "75aa4b94-756a-455b-c73b-f74829c65b3b"
      },
      "outputs": [
        {
          "name": "stdout",
          "output_type": "stream",
          "text": [
            "[0 3 6 9]\n"
          ]
        }
      ],
      "source": [
        "import numpy as np\n",
        "array = np.array(array)\n",
        "\n",
        "print(array)"
      ]
    },
    {
      "cell_type": "code",
      "execution_count": 8,
      "metadata": {
        "colab": {
          "base_uri": "https://localhost:8080/"
        },
        "id": "0F0w4FhWr5eU",
        "outputId": "a33d99eb-2ded-49c4-fbae-80d34dc38d41"
      },
      "outputs": [
        {
          "name": "stdout",
          "output_type": "stream",
          "text": [
            "[0 0 0 0]\n"
          ]
        }
      ],
      "source": [
        "array[:] = 0\n",
        "print(array)"
      ]
    },
    {
      "cell_type": "code",
      "execution_count": 9,
      "metadata": {
        "colab": {
          "base_uri": "https://localhost:8080/"
        },
        "id": "Ldpk-oc3r4mI",
        "outputId": "41c83c82-565d-436a-de89-d3ccaff8dd39"
      },
      "outputs": [
        {
          "name": "stdout",
          "output_type": "stream",
          "text": [
            "[1 1 1 1]\n"
          ]
        }
      ],
      "source": [
        "array[:] = 1\n",
        "print(array)"
      ]
    },
    {
      "cell_type": "code",
      "execution_count": 10,
      "metadata": {
        "colab": {
          "base_uri": "https://localhost:8080/"
        },
        "id": "BFPfrjzPr7ye",
        "outputId": "c1fdbe61-8043-4bc1-8696-6fc0785f7b71"
      },
      "outputs": [
        {
          "name": "stdout",
          "output_type": "stream",
          "text": [
            "[1 3 4 4]\n"
          ]
        }
      ],
      "source": [
        "a = np.array([1,2,3,4])\n",
        "b = np.array([0,1,1,0])\n",
        "c = np.array(a + b)\n",
        "print(c)"
      ]
    },
    {
      "cell_type": "code",
      "execution_count": 15,
      "metadata": {
        "colab": {
          "base_uri": "https://localhost:8080/"
        },
        "id": "OQhzqbxyr9T0",
        "outputId": "cabcd672-8f82-4440-c169-1546c3052df7"
      },
      "outputs": [
        {
          "name": "stdout",
          "output_type": "stream",
          "text": [
            "[0 0 0 0]\n",
            "[[[0. 0. 0. 0. 0.]\n",
            "  [0. 0. 0. 0. 0.]\n",
            "  [0. 0. 0. 0. 0.]]\n",
            "\n",
            " [[0. 0. 0. 0. 0.]\n",
            "  [0. 0. 0. 0. 0.]\n",
            "  [0. 0. 0. 0. 0.]]]\n",
            "[1.e+20 1.e+20 1.e+20 1.e+20 1.e+20 1.e+20 1.e+20 1.e+20 1.e+20 1.e+20\n",
            " 1.e+20 1.e+20 1.e+20 1.e+20 1.e+20 1.e+20 1.e+20 1.e+20 1.e+20 1.e+20\n",
            " 1.e+20 1.e+20 1.e+20 1.e+20 1.e+20 1.e+20 1.e+20 1.e+20 1.e+20 1.e+20\n",
            " 1.e+20 1.e+20 1.e+20 1.e+20 1.e+20 1.e+20 1.e+20 1.e+20 1.e+20 1.e+20\n",
            " 1.e+20 1.e+20 1.e+20 1.e+20 1.e+20 1.e+20 1.e+20 1.e+20 1.e+20 1.e+20\n",
            " 1.e+20 1.e+20 1.e+20 1.e+20 1.e+20 1.e+20 1.e+20 1.e+20 1.e+20 1.e+20\n",
            " 1.e+20 1.e+20 1.e+20 1.e+20 1.e+20 1.e+20 1.e+20 1.e+20 1.e+20 1.e+20\n",
            " 1.e+20 1.e+20 1.e+20 1.e+20 1.e+20 1.e+20 1.e+20 1.e+20 1.e+20 1.e+20\n",
            " 1.e+20 1.e+20 1.e+20 1.e+20 1.e+20 1.e+20 1.e+20 1.e+20 1.e+20 1.e+20\n",
            " 1.e+20 1.e+20 1.e+20 1.e+20 1.e+20 1.e+20 1.e+20 1.e+20 1.e+20 1.e+20]\n"
          ]
        },
        {
          "name": "stderr",
          "output_type": "stream",
          "text": [
            "/usr/local/lib/python3.7/dist-packages/ipykernel_launcher.py:1: DeprecationWarning: `np.int` is a deprecated alias for the builtin `int`. To silence this warning, use `int` by itself. Doing this will not modify any behavior and is safe. When replacing `np.int`, you may wish to use e.g. `np.int64` or `np.int32` to specify the precision. If you wish to review your current use, check the release note link for additional information.\n",
            "Deprecated in NumPy 1.20; for more details and guidance: https://numpy.org/devdocs/release/1.20.0-notes.html#deprecations\n",
            "  \"\"\"Entry point for launching an IPython kernel.\n"
          ]
        }
      ],
      "source": [
        "n = np.zeros(4,np.int)\n",
        "q = np.zeros(shape=(2,3,5),dtype=float)\n",
        "l = np.full(100,1.0e20)\n",
        "print(n)\n",
        "print(q)\n",
        "print(l)"
      ]
    },
    {
      "cell_type": "code",
      "execution_count": 16,
      "metadata": {
        "colab": {
          "base_uri": "https://localhost:8080/"
        },
        "id": "wplKnkUxr-q_",
        "outputId": "c99cd62e-cddd-4b91-b5c9-00c99eba4a4c"
      },
      "outputs": [
        {
          "name": "stdout",
          "output_type": "stream",
          "text": [
            "[2 3]\n",
            "[2 3 4]\n"
          ]
        }
      ],
      "source": [
        "a_sub = a[1:3]\n",
        "print(a_sub)\n",
        "a_sub = a[1:4]\n",
        "print(a_sub)"
      ]
    },
    {
      "cell_type": "code",
      "execution_count": 17,
      "metadata": {
        "colab": {
          "base_uri": "https://localhost:8080/"
        },
        "id": "7Tkik1VwsVze",
        "outputId": "99e7793b-2187-41e4-998e-998cb2d074d4"
      },
      "outputs": [
        {
          "name": "stdout",
          "output_type": "stream",
          "text": [
            "[4 3 2 1]\n"
          ]
        }
      ],
      "source": [
        "a_rev = a[::-1]\n",
        "print(a_rev)"
      ]
    },
    {
      "cell_type": "code",
      "execution_count": 18,
      "metadata": {
        "colab": {
          "base_uri": "https://localhost:8080/"
        },
        "id": "VYH867p_sbc9",
        "outputId": "df248971-0ea9-405e-d305-5a58a42cf1a4"
      },
      "outputs": [
        {
          "name": "stdout",
          "output_type": "stream",
          "text": [
            "[1 3]\n"
          ]
        }
      ],
      "source": [
        "a_sec = a[::2]\n",
        "print(a_sec)"
      ]
    },
    {
      "cell_type": "code",
      "execution_count": 33,
      "metadata": {
        "colab": {
          "base_uri": "https://localhost:8080/"
        },
        "id": "79XbInuGsegh",
        "outputId": "56f67a5d-3e5c-4817-d563-9fb1ee753bc1"
      },
      "outputs": [
        {
          "name": "stdout",
          "output_type": "stream",
          "text": [
            "[1 1]\n"
          ]
        }
      ],
      "source": [
        "ind_not0 = np.nonzero(b)\n",
        "print(b[ind_not0])"
      ]
    },
    {
      "cell_type": "code",
      "execution_count": 34,
      "metadata": {
        "colab": {
          "base_uri": "https://localhost:8080/"
        },
        "id": "u8orb2ZbsgZl",
        "outputId": "3d573db6-d0ed-4f9c-fe8d-9f5d57bedcfa"
      },
      "outputs": [
        {
          "name": "stdout",
          "output_type": "stream",
          "text": [
            "[0 1 2 3 4 5 6 7 8 9]\n",
            "[-180. -150. -120.  -90.  -60.  -30.    0.   30.   60.   90.  120.  150.\n",
            "  180.]\n"
          ]
        }
      ],
      "source": [
        "i = np.arange(0,10,1)\n",
        "print(i)\n",
        "\n",
        "lat = np.arange(-180.0,210.0,30.0)\n",
        "print(lat)"
      ]
    },
    {
      "cell_type": "code",
      "execution_count": 37,
      "metadata": {
        "colab": {
          "base_uri": "https://localhost:8080/"
        },
        "id": "ShYMYdzDsreC",
        "outputId": "b391ec06-9405-4022-d480-a15ead253b4e"
      },
      "outputs": [
        {
          "name": "stdout",
          "output_type": "stream",
          "text": [
            "(2, 3, 4)\n",
            "[1 2 3 4 5 6 7 8 5 4 2 0 1 2 3 4 5 6 7 8 5 4 2 0]\n",
            "[1 2 3 4 5 6 7 8 5 4 2 0 1 2 3 4 5 6 7 8 5 4 2 0]\n",
            "24\n",
            "(2, 3, 4)\n",
            "---\n",
            "(2, 3, 4)\n"
          ]
        }
      ],
      "source": [
        "ra = np.array([[[1,2,3,4],[5,6,7,8],[5,4,2,0]],\n",
        "               [[1,2,3,4],[5,6,7,8],[5,4,2,0]]])\n",
        "print(ra.shape)\n",
        "ra1d = np.ravel(ra)\n",
        "print(ra1d)\n",
        "print(ra.reshape(-1))\n",
        "print(len(ra1d))\n",
        "print(ra.shape)\n",
        "print(\"---\")\n",
        "ra3d = np.reshape(ra,ra.shape)\n",
        "print(ra3d.shape)"
      ]
    },
    {
      "cell_type": "code",
      "execution_count": 39,
      "metadata": {
        "colab": {
          "base_uri": "https://localhost:8080/"
        },
        "id": "6cpLvKrIsvw7",
        "outputId": "71e2a5f1-a8d5-403c-f981-b93708ecb5b6"
      },
      "outputs": [
        {
          "name": "stdout",
          "output_type": "stream",
          "text": [
            "t = 99\n"
          ]
        }
      ],
      "source": [
        "t = 99\n",
        "if t == 0:\n",
        "\tprint(\"t = 0\")\n",
        "elif t == 1:\n",
        "\tprint(\"t = 1\")\n",
        "else:\n",
        "\tprint(f\"t = {t}\")"
      ]
    },
    {
      "cell_type": "code",
      "execution_count": 41,
      "metadata": {
        "colab": {
          "base_uri": "https://localhost:8080/"
        },
        "id": "sRMBsOYEuctR",
        "outputId": "dcfc6dd2-dbb5-44c7-9b0a-420c74d5a44a"
      },
      "outputs": [
        {
          "name": "stdout",
          "output_type": "stream",
          "text": [
            "j = 0\n",
            "j = 1\n",
            "j = 2\n",
            "j = 3\n",
            "j = 4\n",
            "Hamburg\n",
            "Munich\n",
            "Berlin\n"
          ]
        }
      ],
      "source": [
        "for j in range(0,5,1):\n",
        "\tprint(f\"j = {j}\")\n",
        "\n",
        "str_array = [\"Hamburg\",\"Munich\",\"Berlin\"]\n",
        "\n",
        "for city in str_array:\n",
        "\tprint(city)"
      ]
    },
    {
      "cell_type": "code",
      "execution_count": 43,
      "metadata": {
        "colab": {
          "base_uri": "https://localhost:8080/"
        },
        "id": "N0wfHpvhuptN",
        "outputId": "163efa5b-ca13-4113-a1ef-c1e055569c31"
      },
      "outputs": [
        {
          "name": "stdout",
          "output_type": "stream",
          "text": [
            "j =  0\n",
            "j =  1\n",
            "j =  2\n",
            "j =  3\n",
            "--> j = 3\n",
            "j =  4\n",
            "j =  5\n"
          ]
        }
      ],
      "source": [
        "j = 0\n",
        "while(j <= 5):\n",
        "\tprint(\"j = \",j)\n",
        "\tif j == 3:\n",
        "\t\tprint(f\"--> j = {j}\")\n",
        "\tj = j + 1"
      ]
    }
  ],
  "metadata": {
    "colab": {
      "collapsed_sections": [],
      "name": "Snippets: Importing libraries",
      "provenance": []
    },
    "kernelspec": {
      "display_name": "Python 3.9.12 ('judah_c')",
      "language": "python",
      "name": "python3"
    },
    "language_info": {
      "name": "python",
      "version": "3.9.12"
    },
    "vscode": {
      "interpreter": {
        "hash": "8ade28091a343881dbfce9ffe70b8fdcee495b47e644830b6051dd9071cb25ea"
      }
    }
  },
  "nbformat": 4,
  "nbformat_minor": 0
}
